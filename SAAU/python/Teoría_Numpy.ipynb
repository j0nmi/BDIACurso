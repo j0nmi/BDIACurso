{
  "cells": [
    {
      "cell_type": "markdown",
      "metadata": {
        "id": "Q1Nnk-TZ7tuJ"
      },
      "source": [
        "**Teoría NumPy**"
      ]
    },
    {
      "cell_type": "markdown",
      "metadata": {
        "id": "F6NhBebT7tuL"
      },
      "source": [
        "¿Qué significa NumPy?-->Numerical Python\n",
        "Ofrece una librería de matrices multidimensionales. (ndarray)\n",
        "\n",
        "Requisitos\n",
        "1. Instalar Visual Studio Code\n",
        "2. Instalar Python version 3.9 o 3.10\n",
        "3. Seleccionar el intérprete de Python en el VSC, pulsado Ctl+Shift+P\n",
        "4. Instalar extensión Jupyter de Microsoft\n",
        "Una vez realizados los pasos anteriores ya tenéis Jupyter Notebook instalados (también tenéis un enlace en Classroom\n",
        "con las instucciones en la página web oficial de Visual Studio Code.)"
      ]
    },
    {
      "cell_type": "markdown",
      "metadata": {
        "id": "CUei6q8w7tuL"
      },
      "source": [
        "Pasos para crear un archivo Jupyter Notebook\n",
        "1. Iniciando Visual Studio Code, abrir carpeta donde váis a guardar los archivos JupyterNotebook para la UT2.\n",
        "2. Abrir archivo (Ctl+N) seleccionar Python y guardarlo como archivo .ipynb\n",
        "3. Listo para trabajar con Jupyter Notebooks."
      ]
    },
    {
      "cell_type": "markdown",
      "metadata": {
        "id": "3PGkWRO57tuN"
      },
      "source": [
        "Seguir con la instalación de la librería NumPy, con el siguiente comando\n",
        "pip install numpy\n",
        "\n",
        "**Comentario**: El código que váis a ejecutar tiene que estar en la celda code. El texto se puede escribir en la celda Markdown."
      ]
    },
    {
      "cell_type": "markdown",
      "metadata": {
        "id": "TtMDYNFh7tuN"
      },
      "source": [
        "La **ventaja** de los Jupyter Notebook es que podemos ejecutar código Python a trozos (en una celda Code)!"
      ]
    },
    {
      "cell_type": "markdown",
      "metadata": {
        "id": "Wu02mGZ27tuO"
      },
      "source": [
        "A] CREAR UNA MATRIZ CON NUMPY"
      ]
    },
    {
      "cell_type": "code",
      "execution_count": 1,
      "metadata": {
        "colab": {
          "base_uri": "https://localhost:8080/"
        },
        "id": "X96Jj-Yf7tuO",
        "outputId": "44fbe000-7cf3-4ae2-bd2a-beeb119fe0a1"
      },
      "outputs": [
        {
          "output_type": "stream",
          "name": "stdout",
          "text": [
            "[1 2 3 4]\n"
          ]
        },
        {
          "output_type": "execute_result",
          "data": {
            "text/plain": [
              "4"
            ]
          },
          "metadata": {},
          "execution_count": 1
        }
      ],
      "source": [
        "# Comentarios en la celda code.\n",
        "# pip install numpy\n",
        "\n",
        "import numpy as np\n",
        "\n",
        "matriz= np.array([1,2,3,4])\n",
        "print(matriz)\n",
        "matriz[-1]"
      ]
    },
    {
      "cell_type": "code",
      "execution_count": 2,
      "metadata": {
        "colab": {
          "base_uri": "https://localhost:8080/"
        },
        "id": "_GnZ6GLL7tuO",
        "outputId": "9ddf1cf8-5d05-499f-c999-cf0ad128a390"
      },
      "outputs": [
        {
          "output_type": "execute_result",
          "data": {
            "text/plain": [
              "dtype('int64')"
            ]
          },
          "metadata": {},
          "execution_count": 2
        }
      ],
      "source": [
        "#Una matriz puede contener sólo un tipo de datos. Vamos a ver qué tipo de datos hay en la matriz anterior.\n",
        "matriz.dtype"
      ]
    },
    {
      "cell_type": "code",
      "execution_count": 3,
      "metadata": {
        "colab": {
          "base_uri": "https://localhost:8080/"
        },
        "id": "HUUOTVud7tuP",
        "outputId": "277e3a12-5313-4fbf-884d-6f6b5de7cf58"
      },
      "outputs": [
        {
          "output_type": "execute_result",
          "data": {
            "text/plain": [
              "dtype('float64')"
            ]
          },
          "metadata": {},
          "execution_count": 3
        }
      ],
      "source": [
        "#¿Qué pasa con una matriz con diferentes tipos de datos?\n",
        "matrizMix=np.array([1,2.4,5,3.14])\n",
        "matrizMix.dtype"
      ]
    },
    {
      "cell_type": "code",
      "execution_count": 4,
      "metadata": {
        "colab": {
          "base_uri": "https://localhost:8080/"
        },
        "id": "quyaOEC87tuP",
        "outputId": "cdfd0289-23d5-479a-d76b-abe15c0d5baa"
      },
      "outputs": [
        {
          "output_type": "execute_result",
          "data": {
            "text/plain": [
              "dtype('<U21')"
            ]
          },
          "metadata": {},
          "execution_count": 4
        }
      ],
      "source": [
        "matrizMix2=np.array([2,4,6,\"letra\"])\n",
        "matrizMix2.dtype"
      ]
    },
    {
      "cell_type": "markdown",
      "metadata": {
        "id": "mOe4UgMD7tuQ"
      },
      "source": [
        "B] Matriz Multidimensional"
      ]
    },
    {
      "cell_type": "code",
      "execution_count": 5,
      "metadata": {
        "id": "wg0Hm_-67tuQ",
        "colab": {
          "base_uri": "https://localhost:8080/"
        },
        "outputId": "c370a3e4-d649-473c-c410-20760f43cc0f"
      },
      "outputs": [
        {
          "output_type": "stream",
          "name": "stdout",
          "text": [
            "[12 23 34 45 56 67 78]\n",
            "[[1 2 3]\n",
            " [4 5 6]\n",
            " [7 8 9]]\n",
            "[[[1 2 3]]\n",
            "\n",
            " [[3 4 5]]\n",
            "\n",
            " [[6 7 8]]]\n"
          ]
        }
      ],
      "source": [
        "# 1D\n",
        "matriz1D=np.array([12,23,34,45,56,67,78])\n",
        "print(matriz1D)\n",
        "\n",
        "# 2D\n",
        "matriz2D=np.array([\n",
        "    [1,2,3],[4,5,6],[7,8,9]\n",
        "])\n",
        "print(matriz2D)\n",
        "\n",
        "#3D\n",
        "matriz3D=np.array([[[1,2,3]],[[3,4,5]],[[6,7,8]]])\n",
        "print(matriz3D)"
      ]
    },
    {
      "cell_type": "code",
      "execution_count": 6,
      "metadata": {
        "id": "BnU-t8BJ7tuR",
        "colab": {
          "base_uri": "https://localhost:8080/"
        },
        "outputId": "fac31d0f-f4c9-4e24-de18-06e567fb5f73"
      },
      "outputs": [
        {
          "output_type": "stream",
          "name": "stdout",
          "text": [
            "[0. 0. 0. 0. 0. 0. 0.]\n",
            "[[0. 0. 0.]\n",
            " [0. 0. 0.]\n",
            " [0. 0. 0.]]\n",
            "[[[1. 1. 1.]]\n",
            "\n",
            " [[1. 1. 1.]]\n",
            "\n",
            " [[1. 1. 1.]]]\n"
          ]
        }
      ],
      "source": [
        "# Lo mismo con ceros y unos\n",
        "matriz1D=np.zeros(7)\n",
        "print(matriz1D)\n",
        "\n",
        "matriz2D=np.zeros((3,3))\n",
        "print(matriz2D)\n",
        "\n",
        "matriz3D=np.ones(((3,1,3)))\n",
        "print(matriz3D)"
      ]
    },
    {
      "cell_type": "code",
      "execution_count": 7,
      "metadata": {
        "colab": {
          "base_uri": "https://localhost:8080/"
        },
        "id": "ShDNmRBG7tuR",
        "outputId": "c923fbf2-9a49-45f0-d2a7-c371ad3ca960"
      },
      "outputs": [
        {
          "output_type": "execute_result",
          "data": {
            "text/plain": [
              "array([[[[0.20549518, 0.82734854, 0.21257321, 0.82695355],\n",
              "         [0.60564189, 0.22845818, 0.30440793, 0.48201584]],\n",
              "\n",
              "        [[0.93335335, 0.31780081, 0.82243134, 0.30535556],\n",
              "         [0.82556327, 0.28576205, 0.60976521, 0.72583141]]],\n",
              "\n",
              "\n",
              "       [[[0.12054146, 0.36682511, 0.80536033, 0.31206793],\n",
              "         [0.14159235, 0.78973504, 0.72154498, 0.58208326]],\n",
              "\n",
              "        [[0.98757034, 0.14093858, 0.54476624, 0.99614668],\n",
              "         [0.64425036, 0.98616612, 0.50667529, 0.01976508]]]])"
            ]
          },
          "metadata": {},
          "execution_count": 7
        }
      ],
      "source": [
        "# Una matriz con números aleatorios en el intervalo [0,1)\n",
        "MZaleatoria=np.random.rand(2,2,2,4)\n",
        "MZaleatoria"
      ]
    },
    {
      "cell_type": "code",
      "execution_count": 8,
      "metadata": {
        "id": "lYTpuss-7tuR",
        "colab": {
          "base_uri": "https://localhost:8080/"
        },
        "outputId": "c4d19d5f-fa9f-48bf-d27f-c76e1ae0ded9"
      },
      "outputs": [
        {
          "output_type": "execute_result",
          "data": {
            "text/plain": [
              "array([[10],\n",
              "       [10]])"
            ]
          },
          "metadata": {},
          "execution_count": 8
        }
      ],
      "source": [
        "# Número comun a todos los elementos de la matriz con el método np.full((n_dim,m_dimensiones),número)\n",
        "MatrizNumerosIguales=np.full((2,1),10)\n",
        "MatrizNumerosIguales"
      ]
    },
    {
      "cell_type": "code",
      "execution_count": 9,
      "metadata": {
        "id": "MUFQvXap7tuS",
        "colab": {
          "base_uri": "https://localhost:8080/"
        },
        "outputId": "6355df91-7404-4e1c-e38c-e88316215b76"
      },
      "outputs": [
        {
          "output_type": "execute_result",
          "data": {
            "text/plain": [
              "array([[1., 0., 0.],\n",
              "       [0., 1., 0.],\n",
              "       [0., 0., 1.]])"
            ]
          },
          "metadata": {},
          "execution_count": 9
        }
      ],
      "source": [
        "#Matriz Idéntica\n",
        "Identica=np.eye(3)\n",
        "Identica"
      ]
    },
    {
      "cell_type": "markdown",
      "metadata": {
        "id": "93zS-Emh7tuS"
      },
      "source": [
        "Especificando el tipo de las variables dentro de la matriz"
      ]
    },
    {
      "cell_type": "code",
      "execution_count": 10,
      "metadata": {
        "colab": {
          "base_uri": "https://localhost:8080/"
        },
        "id": "7_CTZ-oh7tuS",
        "outputId": "ba175abb-1ef1-48b3-f898-9504329e16f5"
      },
      "outputs": [
        {
          "output_type": "execute_result",
          "data": {
            "text/plain": [
              "array([2., 3.], dtype=float32)"
            ]
          },
          "metadata": {},
          "execution_count": 10
        }
      ],
      "source": [
        "matrizEs= np.array((2,3), dtype=np.float32)\n",
        "matrizEs\n"
      ]
    },
    {
      "cell_type": "markdown",
      "metadata": {
        "id": "bVP8h1I-7tuT"
      },
      "source": [
        "C] Matriz con el np.arange()\n",
        "    - arange(numero) genera valores en el intervalo **[0,numero)**\n",
        "    - arange(start,stop) genera valores en el intervalo **[start,stop)**\n",
        "    - arange(start,stop,step) genera valores en el intervalo **[start,stop)** con espacio el paso **step**"
      ]
    },
    {
      "cell_type": "code",
      "execution_count": 11,
      "metadata": {
        "id": "vg8dhris7tuT"
      },
      "outputs": [],
      "source": [
        "#Intenar C]"
      ]
    },
    {
      "cell_type": "markdown",
      "metadata": {
        "id": "Ghl7pFM57tuT"
      },
      "source": [
        "D] Dimensiones de una matriz, Shape, Size"
      ]
    },
    {
      "cell_type": "code",
      "execution_count": 12,
      "metadata": {
        "id": "rNgrTJWE7tuT",
        "colab": {
          "base_uri": "https://localhost:8080/"
        },
        "outputId": "577b793f-002a-409d-e054-d65af390c5cf"
      },
      "outputs": [
        {
          "output_type": "stream",
          "name": "stdout",
          "text": [
            "2\n"
          ]
        },
        {
          "output_type": "execute_result",
          "data": {
            "text/plain": [
              "1"
            ]
          },
          "metadata": {},
          "execution_count": 12
        }
      ],
      "source": [
        "M34=np.array([[1,2,3,4],[10,20,32,43],[1,2,3,4]])\n",
        "print(M34.ndim)\n",
        "M14=np.array([1,0,1,0])\n",
        "M14.ndim"
      ]
    },
    {
      "cell_type": "code",
      "execution_count": 13,
      "metadata": {
        "id": "UbaUbAW97tuT",
        "colab": {
          "base_uri": "https://localhost:8080/"
        },
        "outputId": "812ee2e1-28c0-4074-e180-a4a5f92a809d"
      },
      "outputs": [
        {
          "output_type": "execute_result",
          "data": {
            "text/plain": [
              "4"
            ]
          },
          "metadata": {},
          "execution_count": 13
        }
      ],
      "source": [
        "M34.shape[1] # [0]= número filas , [1]= número columnas"
      ]
    },
    {
      "cell_type": "code",
      "execution_count": 14,
      "metadata": {
        "id": "dc9ZwyUX7tuU",
        "colab": {
          "base_uri": "https://localhost:8080/"
        },
        "outputId": "d1caf990-f110-4a52-96c8-e815466be6d0"
      },
      "outputs": [
        {
          "output_type": "execute_result",
          "data": {
            "text/plain": [
              "12"
            ]
          },
          "metadata": {},
          "execution_count": 14
        }
      ],
      "source": [
        "M34.size # imprime la cantidad de elementos que tiene la matriz (n x m), 3x4-->12"
      ]
    },
    {
      "cell_type": "markdown",
      "metadata": {
        "id": "AqhWTn-G7tuU"
      },
      "source": [
        "E] Reformar una matriz"
      ]
    },
    {
      "cell_type": "code",
      "execution_count": 15,
      "metadata": {
        "id": "zzsqj2Sa7tuU",
        "colab": {
          "base_uri": "https://localhost:8080/"
        },
        "outputId": "83940c8a-5143-4c40-ca1a-d297449bacc5"
      },
      "outputs": [
        {
          "output_type": "execute_result",
          "data": {
            "text/plain": [
              "array([[10, 20],\n",
              "       [32, 41]])"
            ]
          },
          "metadata": {},
          "execution_count": 15
        }
      ],
      "source": [
        "m1D=np.array([10,20,32,41])\n",
        "m1D.shape\n",
        "\n",
        "m2D=m1D.reshape(2,2)\n",
        "m2D"
      ]
    },
    {
      "cell_type": "code",
      "execution_count": 16,
      "metadata": {
        "id": "rSWDdOet7tuU",
        "colab": {
          "base_uri": "https://localhost:8080/"
        },
        "outputId": "be5c8564-f475-4247-97e6-5b30b1282f0e"
      },
      "outputs": [
        {
          "output_type": "stream",
          "name": "stdout",
          "text": [
            "(2, 4)\n"
          ]
        },
        {
          "output_type": "execute_result",
          "data": {
            "text/plain": [
              "array([[1, 2, 3, 4],\n",
              "       [5, 6, 7, 8]])"
            ]
          },
          "metadata": {},
          "execution_count": 16
        }
      ],
      "source": [
        "MUnknown=np.array([[1,2,3,4],[5,6,7,8]])\n",
        "print(MUnknown.shape)\n",
        "#print(MUnknown.flatten())\n",
        "MUnknown.reshape(2,4)"
      ]
    },
    {
      "cell_type": "markdown",
      "metadata": {
        "id": "I61JP6Qj7tuU"
      },
      "source": [
        "F] Troceando una Matriz"
      ]
    },
    {
      "cell_type": "code",
      "execution_count": 17,
      "metadata": {
        "id": "JrHCQL3i7tuU"
      },
      "outputs": [],
      "source": [
        "M16=np.array([1,2,3,4]) #Expresión [start:end:step-size] 1D, para 2D [start:end:step-size,start:end:step-size]\n",
        "\n",
        "#M16[:6:2]\n",
        "#M16[4:6]\n",
        "#M16[1::3]"
      ]
    },
    {
      "cell_type": "code",
      "execution_count": 18,
      "metadata": {
        "id": "jnSfXUz57tuV"
      },
      "outputs": [],
      "source": [
        "M23=np.array([[1,2,3],[2,4,6]])\n",
        "#Imprime el número 1, después el 4, después el 6\n",
        "#print(M23[1,2])"
      ]
    },
    {
      "cell_type": "markdown",
      "metadata": {
        "id": "PPFQRnNw7tuV"
      },
      "source": [
        "G] Listas vs Matrices NumPy"
      ]
    },
    {
      "cell_type": "markdown",
      "metadata": {
        "id": "o3d1AkgP7tuV"
      },
      "source": [
        "A continuación se compara la suma de los numeros en el intervalo 1-999 entre funciones de Python y de la librería Numpy."
      ]
    },
    {
      "cell_type": "code",
      "execution_count": 19,
      "metadata": {
        "id": "q-Eu11j57tuV",
        "colab": {
          "base_uri": "https://localhost:8080/"
        },
        "outputId": "242c731c-8809-4b85-a584-aece3702c848"
      },
      "outputs": [
        {
          "output_type": "stream",
          "name": "stdout",
          "text": [
            "26.5 µs ± 11.9 µs per loop (mean ± std. dev. of 7 runs, 100000 loops each)\n"
          ]
        }
      ],
      "source": [
        "%%timeit\n",
        "suma=sum(range(1000))\n",
        "#print(suma)"
      ]
    },
    {
      "cell_type": "code",
      "execution_count": 20,
      "metadata": {
        "id": "eLg_VNe-7tuV",
        "colab": {
          "base_uri": "https://localhost:8080/"
        },
        "outputId": "028c53b9-28a4-4917-eafe-d919b56f3665"
      },
      "outputs": [
        {
          "output_type": "stream",
          "name": "stdout",
          "text": [
            "6.96 µs ± 1.9 µs per loop (mean ± std. dev. of 7 runs, 100000 loops each)\n"
          ]
        }
      ],
      "source": [
        "%%timeit\n",
        "np.sum(np.arange(1000))"
      ]
    },
    {
      "cell_type": "markdown",
      "metadata": {
        "id": "CiOeA7DZ7tuW"
      },
      "source": [
        "I] Matemáticas de Matrices"
      ]
    },
    {
      "cell_type": "code",
      "execution_count": 21,
      "metadata": {
        "colab": {
          "base_uri": "https://localhost:8080/"
        },
        "id": "gAOxpFwN7tuW",
        "outputId": "57e16555-8f81-4ad0-bf9a-73f82a201d5c"
      },
      "outputs": [
        {
          "output_type": "stream",
          "name": "stdout",
          "text": [
            "Matriz 1:\n",
            "[[ 1  0  0 13]\n",
            " [11 10  3 11]\n",
            " [12 19 12  1]]\n",
            "-----------------------------------------------------------\n",
            "Matriz 1:\n",
            "[[ 1 11 12]\n",
            " [ 0 10 19]\n",
            " [ 0  3 12]\n",
            " [13 11  1]]\n",
            "-----------------------------------------------------------\n",
            "Matriz 2:\n",
            "[[3 4 2 2]\n",
            " [2 2 3 3]\n",
            " [2 4 1 1]]\n",
            "-----------------------------------------------------------\n",
            "M1 min:  0\n",
            "M1 max:  19\n",
            "M1 suma:   93\n",
            "-----------------------------------------------------------\n"
          ]
        }
      ],
      "source": [
        "# genero unas matrices con valores aleatorios del [0, 10) y de [0,5)\n",
        "M1= np.random.randint(20, size=(3,4))\n",
        "M2= np.random.randint(1,5, size=(3,4))\n",
        "print(\"Matriz 1:\")\n",
        "print(M1)\n",
        "print(\"-----------------------------------------------------------\")\n",
        "print(\"Matriz 1:\")\n",
        "print(M1.T)\n",
        "# print(M1.transpose())\n",
        "print(\"-----------------------------------------------------------\")\n",
        "print(\"Matriz 2:\")\n",
        "print(M2)\n",
        "print(\"-----------------------------------------------------------\")\n",
        "\n",
        "# muestro el valor mínimo, máximo y la suma de los valores de una matriz\n",
        "print(\"M1 min: \", M1.min())\n",
        "print(\"M1 max: \", M1.max())\n",
        "print(\"M1 suma:  \", M1.sum())\n",
        "print(\"-----------------------------------------------------------\")\n",
        "\n"
      ]
    },
    {
      "cell_type": "code",
      "execution_count": 22,
      "metadata": {
        "id": "34p6v_iF7tuW",
        "colab": {
          "base_uri": "https://localhost:8080/"
        },
        "outputId": "93e36d10-8798-472d-ab04-f0eef2f68f00"
      },
      "outputs": [
        {
          "output_type": "stream",
          "name": "stdout",
          "text": [
            "M1 sqrt:  [[1.         0.         0.         3.60555128]\n",
            " [3.31662479 3.16227766 1.73205081 3.31662479]\n",
            " [3.46410162 4.35889894 3.46410162 1.        ]]\n",
            "-----------------------------------------------------------\n",
            "[[ 4  4  2 15]\n",
            " [13 12  6 14]\n",
            " [14 23 13  2]]\n",
            "[[-2 -4 -2 11]\n",
            " [ 9  8  0  8]\n",
            " [10 15 11  0]]\n",
            "[[ 3  0  0 26]\n",
            " [22 20  9 33]\n",
            " [24 76 12  1]]\n",
            "La división es: \n",
            "  [[ 0.33333333  0.          0.          6.5       ]\n",
            " [ 5.5         5.          1.          3.66666667]\n",
            " [ 6.          4.75       12.          1.        ]]\n",
            "-----------------------------------------------------------\n",
            "[[ 29  41  15]\n",
            " [101  84  76]\n",
            " [138 101 113]]\n"
          ]
        }
      ],
      "source": [
        "# También podemos calcular la raíz cuadrada\n",
        "print(\"M1 sqrt: \", np.sqrt(M1))\n",
        "print(\"-----------------------------------------------------------\")\n",
        "\n",
        "# Por último, podremos hacer cálculos matemáticos básicos entre matrices. Estos cálculos serán posición a posición\n",
        "print(M1 + M2)\n",
        "print(M1 - M2)\n",
        "print(M1 * M2)\n",
        "print(\"La división es: \\n \", M1 / M2)\n",
        "print(\"-----------------------------------------------------------\")\n",
        "# Multiplicación Matricial. Si intentamos hacer la multiplicación matricial M1 x M2 no se puede, porqué?\n",
        "print(M1@M2.T)"
      ]
    }
  ],
  "metadata": {
    "kernelspec": {
      "display_name": "Python 3.10.1 64-bit",
      "language": "python",
      "name": "python3"
    },
    "language_info": {
      "codemirror_mode": {
        "name": "ipython",
        "version": 3
      },
      "file_extension": ".py",
      "mimetype": "text/x-python",
      "name": "python",
      "nbconvert_exporter": "python",
      "pygments_lexer": "ipython3",
      "version": "3.10.1"
    },
    "orig_nbformat": 4,
    "vscode": {
      "interpreter": {
        "hash": "75c4e4749f6b1e43f05107ab0bcb305c0d5fd7c36049a0be20a99e8d051a1cc2"
      }
    },
    "colab": {
      "provenance": []
    }
  },
  "nbformat": 4,
  "nbformat_minor": 0
}